{
 "cells": [
  {
   "cell_type": "code",
   "execution_count": 4,
   "id": "a7ff3dc8-b635-42fd-a43a-fa077fa6a922",
   "metadata": {},
   "outputs": [
    {
     "data": {
      "text/plain": [
       "((1, 2), {'a': 111, 'b': 222})"
      ]
     },
     "execution_count": 4,
     "metadata": {},
     "output_type": "execute_result"
    }
   ],
   "source": [
    "def test1(*args, **args1):\n",
    "    return args, args1\n",
    "test1(1,2,a=111,b=222)"
   ]
  },
  {
   "cell_type": "code",
   "execution_count": null,
   "id": "7662b0d8-5ca3-4170-8cc6-2d2aa67ce126",
   "metadata": {},
   "outputs": [],
   "source": []
  }
 ],
 "metadata": {
  "kernelspec": {
   "display_name": "Python 3 (ipykernel)",
   "language": "python",
   "name": "python3"
  },
  "language_info": {
   "codemirror_mode": {
    "name": "ipython",
    "version": 3
   },
   "file_extension": ".py",
   "mimetype": "text/x-python",
   "name": "python",
   "nbconvert_exporter": "python",
   "pygments_lexer": "ipython3",
   "version": "3.10.8"
  }
 },
 "nbformat": 4,
 "nbformat_minor": 5
}
