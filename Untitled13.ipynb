{
 "cells": [
  {
   "cell_type": "code",
   "execution_count": 6,
   "id": "e4df2e1b-00d0-480a-a76e-46a1207fb227",
   "metadata": {},
   "outputs": [
    {
     "data": {
      "text/plain": [
       "10"
      ]
     },
     "execution_count": 6,
     "metadata": {},
     "output_type": "execute_result"
    }
   ],
   "source": [
    "\n",
    "def sum1(*args):\n",
    "    s= 0 \n",
    "    for i in args:\n",
    "        s=s+i\n",
    "    return s\n",
    "sum1(1,2,3,4)"
   ]
  },
  {
   "cell_type": "code",
   "execution_count": 7,
   "id": "03ec38b4-53d1-46bd-b185-3ebf281f8c76",
   "metadata": {},
   "outputs": [
    {
     "data": {
      "text/plain": [
       "((1, 2, 3, 4), 'ram')"
      ]
     },
     "execution_count": 7,
     "metadata": {},
     "output_type": "execute_result"
    }
   ],
   "source": [
    "#variable arguments with default argument\n",
    "def test(*args, a):\n",
    "    return args, a \n",
    "test(1,2,3,4,a =\"ram\")"
   ]
  },
  {
   "cell_type": "code",
   "execution_count": 8,
   "id": "41a64e1d-4dee-4d05-9609-789e8557f8ed",
   "metadata": {},
   "outputs": [
    {
     "data": {
      "text/plain": [
       "[[1, 2, 3]]"
      ]
     },
     "execution_count": 8,
     "metadata": {},
     "output_type": "execute_result"
    }
   ],
   "source": [
    "#variable argument >> takes any no of argument\n",
    "#positional  argument >> fixed argument\n",
    "#write a function can take any no of values and return the list\n",
    "def return_list(*args):\n",
    "    l=[]\n",
    "    for i in args:\n",
    "        if type(i) == list:\n",
    "            l.append(i)\n",
    "    return l\n",
    "return_list(1,2,{1,2},[1,2,3],(1,2))"
   ]
  },
  {
   "cell_type": "code",
   "execution_count": null,
   "id": "7e0e5cd4-fd7f-4f67-b48a-be6fc72ae5a0",
   "metadata": {},
   "outputs": [],
   "source": [
    "def test1(*args, **args1):\n",
    "    return args, args1\n",
    "test1(1,2,a=111,b=222)\n",
    "test1()"
   ]
  },
  {
   "cell_type": "code",
   "execution_count": null,
   "id": "eb5be956-802e-4638-9df7-81ff66ff7a63",
   "metadata": {},
   "outputs": [],
   "source": []
  }
 ],
 "metadata": {
  "kernelspec": {
   "display_name": "Python 3 (ipykernel)",
   "language": "python",
   "name": "python3"
  },
  "language_info": {
   "codemirror_mode": {
    "name": "ipython",
    "version": 3
   },
   "file_extension": ".py",
   "mimetype": "text/x-python",
   "name": "python",
   "nbconvert_exporter": "python",
   "pygments_lexer": "ipython3",
   "version": "3.10.8"
  }
 },
 "nbformat": 4,
 "nbformat_minor": 5
}
