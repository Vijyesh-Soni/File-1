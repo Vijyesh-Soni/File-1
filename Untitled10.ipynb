{
 "cells": [
  {
   "cell_type": "code",
   "execution_count": 9,
   "id": "3994689f-c4f8-4fd2-8260-29302f4fe6b4",
   "metadata": {},
   "outputs": [
    {
     "data": {
      "text/plain": [
       "'This is my first function in python'"
      ]
     },
     "execution_count": 9,
     "metadata": {},
     "output_type": "execute_result"
    }
   ],
   "source": [
    "def func():\n",
    "    return(\"This is my first function\")\n",
    "func() + \" in python\""
   ]
  },
  {
   "cell_type": "code",
   "execution_count": 12,
   "id": "55a035f6-4a7b-4a07-85cd-f36e3ee62190",
   "metadata": {},
   "outputs": [
    {
     "data": {
      "text/plain": [
       "35"
      ]
     },
     "execution_count": 12,
     "metadata": {},
     "output_type": "execute_result"
    }
   ],
   "source": [
    "def func():\n",
    "    calc = 2+3+6*5\n",
    "    return calc\n",
    "func()\n"
   ]
  },
  {
   "cell_type": "code",
   "execution_count": null,
   "id": "bed63582-e823-4eeb-a019-faaaeb10553f",
   "metadata": {},
   "outputs": [],
   "source": []
  }
 ],
 "metadata": {
  "kernelspec": {
   "display_name": "Python 3 (ipykernel)",
   "language": "python",
   "name": "python3"
  },
  "language_info": {
   "codemirror_mode": {
    "name": "ipython",
    "version": 3
   },
   "file_extension": ".py",
   "mimetype": "text/x-python",
   "name": "python",
   "nbconvert_exporter": "python",
   "pygments_lexer": "ipython3",
   "version": "3.10.8"
  }
 },
 "nbformat": 4,
 "nbformat_minor": 5
}
