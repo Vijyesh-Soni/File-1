{
 "cells": [
  {
   "cell_type": "code",
   "execution_count": 3,
   "id": "15509ee2-46eb-4c12-ad67-e89a719879d0",
   "metadata": {},
   "outputs": [
    {
     "name": "stdout",
     "output_type": "stream",
     "text": [
      "hello, welcome to the course\n"
     ]
    }
   ],
   "source": [
    "#global variable >> can be accessed outside the function as well\n",
    "subpart = \" to the course\"\n",
    "def greet():\n",
    "    message = \"hello, welcome\" + subpart\n",
    "    print(message)\n",
    "greet()"
   ]
  },
  {
   "cell_type": "code",
   "execution_count": 5,
   "id": "e7346057-464e-4925-845a-b529554719d6",
   "metadata": {},
   "outputs": [
    {
     "data": {
      "text/plain": [
       "110"
      ]
     },
     "execution_count": 5,
     "metadata": {},
     "output_type": "execute_result"
    }
   ],
   "source": [
    "def marks_in_students(**kwargs):\n",
    "    def total_marks(marks_list):\n",
    "        return sum(marks_list)\n",
    "    marks_list=[]\n",
    "    for sub, marks in kwargs.iteam():\n",
    "        marks_list.append(marks)\n",
    "        \n",
    "    return total_marks(marks_list)\n",
    "sum([90,20])"
   ]
  },
  {
   "cell_type": "code",
   "execution_count": 10,
   "id": "76751591-1c57-42d8-a26d-356381d58318",
   "metadata": {},
   "outputs": [
    {
     "data": {
      "text/plain": [
       "110"
      ]
     },
     "execution_count": 10,
     "metadata": {},
     "output_type": "execute_result"
    }
   ],
   "source": [
    "#calling function from outside\n",
    "def total_marks(marks_list):\n",
    "    return sum(marks_list)\n",
    "def marks_in_students(**kwargs):\n",
    "     marks_list=[]\n",
    "     for sub, marks in kwargs.iteam():\n",
    "        marks_list.append(marks)\n",
    "     return total_marks(marks_list)\n",
    "sum([90,20]) "
   ]
  },
  {
   "cell_type": "code",
   "execution_count": null,
   "id": "85444c52-5730-47e7-933d-26eb6a1dd38a",
   "metadata": {},
   "outputs": [],
   "source": []
  }
 ],
 "metadata": {
  "kernelspec": {
   "display_name": "Python 3 (ipykernel)",
   "language": "python",
   "name": "python3"
  },
  "language_info": {
   "codemirror_mode": {
    "name": "ipython",
    "version": 3
   },
   "file_extension": ".py",
   "mimetype": "text/x-python",
   "name": "python",
   "nbconvert_exporter": "python",
   "pygments_lexer": "ipython3",
   "version": "3.10.8"
  }
 },
 "nbformat": 4,
 "nbformat_minor": 5
}
