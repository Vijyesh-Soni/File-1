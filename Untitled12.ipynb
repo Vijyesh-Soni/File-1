{
 "cells": [
  {
   "cell_type": "code",
   "execution_count": 13,
   "id": "9ba24dae-c94b-4385-9115-d59eaf9d9c38",
   "metadata": {},
   "outputs": [],
   "source": [
    "sum1=(1,2,3,4)\n",
    "def sum1(n):\n",
    "    s= 0 \n",
    "    for i in n:\n",
    "        s=s+i\n",
    "    return s\n"
   ]
  },
  {
   "cell_type": "code",
   "execution_count": null,
   "id": "189357b7-45b0-4ca8-8c24-37e4243d40ae",
   "metadata": {},
   "outputs": [],
   "source": []
  },
  {
   "cell_type": "code",
   "execution_count": null,
   "id": "7e7b7d27-0088-4847-8987-7d9227bd910e",
   "metadata": {},
   "outputs": [],
   "source": []
  }
 ],
 "metadata": {
  "kernelspec": {
   "display_name": "Python 3 (ipykernel)",
   "language": "python",
   "name": "python3"
  },
  "language_info": {
   "codemirror_mode": {
    "name": "ipython",
    "version": 3
   },
   "file_extension": ".py",
   "mimetype": "text/x-python",
   "name": "python",
   "nbconvert_exporter": "python",
   "pygments_lexer": "ipython3",
   "version": "3.10.8"
  }
 },
 "nbformat": 4,
 "nbformat_minor": 5
}
