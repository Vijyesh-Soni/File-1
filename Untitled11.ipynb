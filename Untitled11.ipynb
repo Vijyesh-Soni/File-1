{
 "cells": [
  {
   "cell_type": "code",
   "execution_count": 3,
   "id": "82a3c00c-60ce-450a-9164-302ed8bab77b",
   "metadata": {},
   "outputs": [
    {
     "data": {
      "text/plain": [
       "25"
      ]
     },
     "execution_count": 3,
     "metadata": {},
     "output_type": "execute_result"
    }
   ],
   "source": [
    "def square(a):\n",
    "    return a*a\n",
    "square_no(5)"
   ]
  },
  {
   "cell_type": "code",
   "execution_count": 5,
   "id": "9fc106cc-95c4-4ef0-9585-e4b8150c2a36",
   "metadata": {},
   "outputs": [
    {
     "data": {
      "text/plain": [
       "25"
      ]
     },
     "execution_count": 5,
     "metadata": {},
     "output_type": "execute_result"
    }
   ],
   "source": [
    "def square(args):\n",
    "    return args*args\n",
    "square(5)"
   ]
  },
  {
   "cell_type": "code",
   "execution_count": 6,
   "id": "dc51749b-5e91-486a-8b85-ee81bcda9eee",
   "metadata": {},
   "outputs": [
    {
     "data": {
      "text/plain": [
       "11"
      ]
     },
     "execution_count": 6,
     "metadata": {},
     "output_type": "execute_result"
    }
   ],
   "source": [
    "def addition(a,b):\n",
    "    return a+b\n",
    "addition(5,6)"
   ]
  },
  {
   "cell_type": "code",
   "execution_count": null,
   "id": "63e98475-6584-47c3-9318-4517eb1be161",
   "metadata": {},
   "outputs": [],
   "source": []
  }
 ],
 "metadata": {
  "kernelspec": {
   "display_name": "Python 3 (ipykernel)",
   "language": "python",
   "name": "python3"
  },
  "language_info": {
   "codemirror_mode": {
    "name": "ipython",
    "version": 3
   },
   "file_extension": ".py",
   "mimetype": "text/x-python",
   "name": "python",
   "nbconvert_exporter": "python",
   "pygments_lexer": "ipython3",
   "version": "3.10.8"
  }
 },
 "nbformat": 4,
 "nbformat_minor": 5
}
