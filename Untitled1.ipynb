{
 "cells": [
  {
   "cell_type": "code",
   "execution_count": null,
   "id": "eb305a3c-6fe6-488a-b4c8-3fb164b493ef",
   "metadata": {},
   "outputs": [],
   "source": [
    "row = 0\n",
    "while row < 4:\n",
    "    col=0\n",
    "    while col < 4:\n",
    "        col = col+1\n",
    "        print(\"*\",end = ' ')\n",
    "    row = row +1\n",
    "    print('')"
   ]
  },
  {
   "cell_type": "code",
   "execution_count": null,
   "id": "486ad1b3-7341-4238-a956-e42699d13a8c",
   "metadata": {},
   "outputs": [],
   "source": []
  },
  {
   "cell_type": "code",
   "execution_count": null,
   "id": "9b0cb2f1-5f4c-4037-a4cf-cb3944b89031",
   "metadata": {},
   "outputs": [],
   "source": []
  }
 ],
 "metadata": {
  "kernelspec": {
   "display_name": "Python 3 (ipykernel)",
   "language": "python",
   "name": "python3"
  },
  "language_info": {
   "codemirror_mode": {
    "name": "ipython",
    "version": 3
   },
   "file_extension": ".py",
   "mimetype": "text/x-python",
   "name": "python",
   "nbconvert_exporter": "python",
   "pygments_lexer": "ipython3",
   "version": "3.10.8"
  }
 },
 "nbformat": 4,
 "nbformat_minor": 5
}
