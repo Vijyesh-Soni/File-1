{
 "cells": [
  {
   "cell_type": "code",
   "execution_count": 1,
   "id": "c54b1d08-3a07-4c5a-8893-38b30a39012d",
   "metadata": {},
   "outputs": [
    {
     "name": "stdin",
     "output_type": "stream",
     "text": [
      "Please Enter any Side of a Square  :  5\n"
     ]
    },
    {
     "name": "stdout",
     "output_type": "stream",
     "text": [
      "Square Star Pattern\n",
      "*  *  *  *  *  \n",
      "*  *  *  *  *  \n",
      "*  *  *  *  *  \n",
      "*  *  *  *  *  \n",
      "*  *  *  *  *  \n"
     ]
    }
   ],
   "source": [
    "side = int(input(\"Please Enter any Side of a Square  : \"))\n",
    "i = 0\n",
    "print(\"Square Star Pattern\") \n",
    "\n",
    "while(i < side):\n",
    "    j = 0\n",
    "    while(j < side):      \n",
    "        j = j + 1\n",
    "        print('*', end = '  ')\n",
    "    i = i + 1\n",
    "    print('')"
   ]
  },
  {
   "cell_type": "code",
   "execution_count": null,
   "id": "9ef597b0-2d1a-4a53-97ea-974a9fb1c119",
   "metadata": {},
   "outputs": [],
   "source": []
  }
 ],
 "metadata": {
  "kernelspec": {
   "display_name": "Python 3 (ipykernel)",
   "language": "python",
   "name": "python3"
  },
  "language_info": {
   "codemirror_mode": {
    "name": "ipython",
    "version": 3
   },
   "file_extension": ".py",
   "mimetype": "text/x-python",
   "name": "python",
   "nbconvert_exporter": "python",
   "pygments_lexer": "ipython3",
   "version": "3.10.8"
  }
 },
 "nbformat": 4,
 "nbformat_minor": 5
}
